{
 "cells": [
  {
   "cell_type": "markdown",
   "metadata": {},
   "source": [
    "## N Ways to GPU Programming\n",
    "\n",
    "## Learning objectives\n",
    "With the release of NVIDIA® CUDA®  in 2007, different approaches to programming GPUs have evolved. Each approach has its own advantages and disadvantages. By the end of this bootcamp session, students will have a broader perspective on GPU programming approaches to help them select a programming model that better fits their applications' needs and constraints. The bootcamp will teach how to accelerate a popular algorithm of Radial Distribution Function (RDF) using the following methods:\n",
    "* Standard: C++ stdpar, Fortran Do-Concurrent\n",
    "* Directives: OpenACC, OpenMP\n",
    "<!--* Frameworks: Kokkos-->\n",
    "* Programming Language Extension: CUDA C, CUDA Fortran\n",
    "\n",
    "Let's start with testing the CUDA Driver and GPU you are running the code on in this lab:"
   ]
  },
  {
   "cell_type": "code",
   "execution_count": null,
   "metadata": {},
   "outputs": [],
   "source": [
    "!nvidia-smi"
   ]
  },
  {
   "cell_type": "markdown",
   "metadata": {},
   "source": [
    "<!--**IMPORTANT**: Before we start please download the input file needed for this application from the [Google drive](https://drive.google.com/drive/folders/1aQ_MFyrjBIDMhCczse0S2GQ36MlR6Q_s?usp=sharing) and upload it to the input folder. From the top menu, click on *File*, and *Open* and navigate to `C/source_code/input` directory and copy paste the downloaded input file (`alk.traj.dcd`).-->\n",
    "\n",
    "\n",
    "### Bootcamp Outline\n",
    "\n",
    " We will be following the cycle of Analysis - Parallelization - Optimization cycle throughout. To start with let us understand the Nsight tool ecosystem:   \n",
    "\n",
    "- [Nsight Systems](jupyter_notebook/nsight_systems.ipynb)\n",
    "    - Overview of Nsight profiler tools\n",
    "    - Introduction to Nsight Systems\n",
    "    - How to view the report\n",
    "    - How to use NVTX APIs\n",
    "    - Optimization Steps to parallel programming \n",
    "    \n",
    "- [Nsight Compute](jupyter_notebook/nsight_compute.ipynb)\n",
    "    - Introduction to Nsight Compute\n",
    "    - Overview of sections\n",
    "    - Roofline Charts\n",
    "    - Memory Charts\n",
    "    - Profiling a kernel using CLI\n",
    "    - How to view the report\n",
    "  \n",
    "We will be working on porting a radial distribution function (RDF) to GPUs. Note: Learn about all terminologies used throughtout the notebooks in the [GPU Architecture Terminologies](jupyter_notebook/GPU_Architecture_Terminologies.ipynb) notebook.\n",
    "\n",
    "Please read the [RDF Overview](jupyter_notebook/rdf_overview.ipynb) to get familiar with how this application works.\n",
    "\n",
    "Below is the list of GPU programming approaches we will be covering during this course, click on the link below to start exploring:\n",
    "    \n",
    "1. [ISO C++ and ISO Fortran](../iso/jupyter_notebook/nways_iso.ipynb)\n",
    "2. [OpenACC](../openacc/jupyter_notebook/nways_openacc.ipynb)<!-- , [OpenACC Advanced](C/jupyter_notebook/openacc/nways_openacc_opt.ipynb)-->\n",
    "<!--3. [Kokkos](C/jupyter_notebook/kokkos/nways_kokkos.ipynb)-->\n",
    "3. [OpenMP](../openmp/jupyter_notebook/nways_openmp.ipynb) \n",
    "4. [CUDA](../cuda/jupyter_notebook/nways_cuda.ipynb) \n",
    "5. [Memory Coherent Architectures](../memory_coherent/jupyter_notebook/memory_coherent_architectures.ipynb)\n",
    "   \n",
    "To finish the lab, let us go through some final [remarks](jupyter_notebook/Final_Remarks.ipynb)"
   ]
  },
  {
   "cell_type": "markdown",
   "metadata": {},
   "source": [
    "\n",
    "\n",
    "### Bootcamp Duration\n",
    "The lab material will be presented in an 8hr session. The link to the material is available for download at the end of the lab.\n",
    "\n",
    "### Content Level\n",
    "Beginner, Intermediate\n",
    "\n",
    "### Target Audience and Prerequisites\n",
    "The target audience for this lab is researchers/graduate students and developers  interested in learning about programming various ways to program GPUs to accelerate their scientific applications.\n",
    "\n",
    "Basic experience with C/C++ or Fortran programming is needed. No GPU programming knowledge is required.\n",
    "\n",
    "-----\n",
    "<!--\n",
    "# <div style=\"text-align: center ;border:3px; border-style:solid; border-color:#FF0000  ; padding: 1em\">[HOME](../../nways_start.ipynb)</div> \n",
    "-->\n",
    "-----\n"
   ]
  },
  {
   "cell_type": "markdown",
   "metadata": {},
   "source": [
    "\n",
    "## Licensing \n",
    "\n",
    "Copyright © 2022 OpenACC-Standard.org.  This material is released by OpenACC-Standard.org, in collaboration with NVIDIA Corporation, under the Creative Commons Attribution 4.0 International (CC BY 4.0). These materials may include references to hardware and software developed by other entities; all applicable licensing and copyrights apply."
   ]
  }
 ],
 "metadata": {
  "kernelspec": {
   "display_name": "Python 3 (ipykernel)",
   "language": "python",
   "name": "python3"
  },
  "language_info": {
   "codemirror_mode": {
    "name": "ipython",
    "version": 3
   },
   "file_extension": ".py",
   "mimetype": "text/x-python",
   "name": "python",
   "nbconvert_exporter": "python",
   "pygments_lexer": "ipython3",
   "version": "3.10.12"
  }
 },
 "nbformat": 4,
 "nbformat_minor": 4
}
